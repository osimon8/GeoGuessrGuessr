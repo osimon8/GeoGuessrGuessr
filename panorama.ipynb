{
 "cells": [
  {
   "cell_type": "code",
   "execution_count": 1,
   "id": "dd308a08",
   "metadata": {},
   "outputs": [
    {
     "name": "stdout",
     "output_type": "stream",
     "text": [
      "Requirement already satisfied: opencv-contrib-python==4.3.0.38 in c:\\programdata\\anaconda3\\envs\\geoguessr\\lib\\site-packages (4.3.0.38)\n",
      "Requirement already satisfied: numpy>=1.17.3 in c:\\programdata\\anaconda3\\envs\\geoguessr\\lib\\site-packages (from opencv-contrib-python==4.3.0.38) (1.19.2)\n"
     ]
    }
   ],
   "source": [
    "!pip install opencv-contrib-python==4.3.0.38"
   ]
  },
  {
   "cell_type": "code",
   "execution_count": 2,
   "id": "1d734ed8",
   "metadata": {},
   "outputs": [],
   "source": [
    " %matplotlib inline\n",
    "\n",
    "import numpy as np \n",
    "import matplotlib.pyplot as plt\n",
    "import os \n",
    "import torch\n",
    "import torchvision.datasets as datasets\n",
    "import torchvision.transforms as transforms\n",
    "import cv2"
   ]
  },
  {
   "cell_type": "code",
   "execution_count": 66,
   "id": "9123244c",
   "metadata": {},
   "outputs": [],
   "source": [
    "def make_cv2(img):\n",
    "    #img = cv2.normalize(img, None, 0, 255, cv2.NORM_MINMAX).astype('uint8')\n",
    "    return img.permute(1, 2, 0).numpy()"
   ]
  },
  {
   "cell_type": "code",
   "execution_count": 3,
   "id": "630f0559",
   "metadata": {},
   "outputs": [],
   "source": [
    "train_data_directory = '50States10K'\n",
    "\n",
    "dataset = datasets.ImageFolder(train_data_directory, transforms.Compose([transforms.ToTensor()]))\n",
    "data_loader = torch.utils.data.DataLoader(dataset, batch_size = 4)"
   ]
  },
  {
   "cell_type": "code",
   "execution_count": 76,
   "id": "b3452a79",
   "metadata": {},
   "outputs": [],
   "source": [
    "sift = cv2.xfeatures2d.SIFT_create()\n",
    "stitcher = cv2.Stitcher_create(cv2.Stitcher_PANORAMA)"
   ]
  },
  {
   "cell_type": "code",
   "execution_count": 79,
   "id": "e1f9bfcb",
   "metadata": {},
   "outputs": [],
   "source": [
    "example_batch = next(iter(data_loader))[0]\n",
    "imgs = [make_cv2(i) for i in example_batch]\n",
    "out = []\n",
    "res = stitcher.stitch(imgs, out)\n",
    "\n",
    "# example_batch = next(iter(data_loader))[0]\n",
    "# for im in example_batch:\n",
    "#     perm = im.permute(1, 2, 0) #* 255\n",
    "#     img = perm.numpy()\n",
    "#     img = cv2.normalize(img, None, 0, 255, cv2.NORM_MINMAX).astype('uint8')\n",
    "#     gray= cv2.cvtColor(img,cv2.COLOR_RGB2GRAY)\n",
    "#     kp, des = sift.detectAndCompute(gray,None)\n",
    "#     plt.figure(figsize=(6.4*2, 4.8*2))\n",
    "#     out_im = cv2.drawKeypoints(img,kp, img, flags=cv2.DRAW_MATCHES_FLAGS_DRAW_RICH_KEYPOINTS)\n",
    "#     plt.imshow(out_im)"
   ]
  },
  {
   "cell_type": "code",
   "execution_count": 78,
   "id": "cf744fd6",
   "metadata": {},
   "outputs": [
    {
     "name": "stdout",
     "output_type": "stream",
     "text": [
      "(1, None)\n"
     ]
    }
   ],
   "source": [
    "print(res)"
   ]
  }
 ],
 "metadata": {
  "kernelspec": {
   "display_name": "geoguessr",
   "language": "python",
   "name": "geoguessr"
  },
  "language_info": {
   "codemirror_mode": {
    "name": "ipython",
    "version": 3
   },
   "file_extension": ".py",
   "mimetype": "text/x-python",
   "name": "python",
   "nbconvert_exporter": "python",
   "pygments_lexer": "ipython3",
   "version": "3.8.8"
  }
 },
 "nbformat": 4,
 "nbformat_minor": 5
}
